{
 "cells": [
  {
   "cell_type": "markdown",
   "metadata": {},
   "source": [
    "# Proyectito 1"
   ]
  },
  {
   "cell_type": "markdown",
   "metadata": {},
   "source": [
    "## Inciso 1 "
   ]
  },
  {
   "cell_type": "markdown",
   "metadata": {},
   "source": [
    "## Importe de paquetes"
   ]
  },
  {
   "cell_type": "code",
   "execution_count": 1,
   "metadata": {},
   "outputs": [],
   "source": [
    "import matplotlib.pyplot as plt\n",
    "import numpy as np\n",
    "import math"
   ]
  },
  {
   "cell_type": "markdown",
   "metadata": {},
   "source": [
    "## Funciones "
   ]
  },
  {
   "cell_type": "raw",
   "metadata": {},
   "source": [
    "Altura inicial y0= Ho \n",
    "velocidad inicial en la componente x vox\n",
    "Velocida inicial en la componente y voy \n",
    "aceleracion de la gravedad constante 9.8 m/s2\n",
    "angulo a =40 degrees\n",
    "\n",
    "Formulas \n",
    "Vx = vox*cos(a)\n",
    "Vy = voy*sen(a)\n",
    "X = Vx*t\n",
    "y= H + Vy*t +1/2(g)*t**2\n",
    "V = sqrt(Vx**2 + Vy**2)"
   ]
  },
  {
   "cell_type": "markdown",
   "metadata": {},
   "source": [
    "### Encontrando r en cualquier tiempo t"
   ]
  },
  {
   "cell_type": "code",
   "execution_count": 5,
   "metadata": {},
   "outputs": [],
   "source": [
    "def comp_x(xo, vox, a, t):\n",
    "   result = xo + vox*math.cos(math.degrees(a))*t\n",
    "   return(result)"
   ]
  },
  {
   "cell_type": "code",
   "execution_count": 6,
   "metadata": {},
   "outputs": [],
   "source": [
    "def com_y(Ho, voy, a, t, g = -9.8):\n",
    "    result = Ho +voy*math.sin(math.degrees(a))*t + g*t**2/2\n",
    "    return(result)"
   ]
  },
  {
   "cell_type": "code",
   "execution_count": 7,
   "metadata": {},
   "outputs": [],
   "source": [
    "def posicion(xo, Ho, vox, voy, a, t, g = -9.8):\n",
    "    rx = comp_x(xo, vox, a, t)\n",
    "    ry = com_y(Ho, voy, a, t)\n",
    "    return(rx,ry)"
   ]
  },
  {
   "cell_type": "markdown",
   "metadata": {},
   "source": [
    "## Inciso 2 "
   ]
  },
  {
   "cell_type": "markdown",
   "metadata": {},
   "source": [
    "### Encontranto el tiempo que tarda en caer al suelo "
   ]
  },
  {
   "cell_type": "raw",
   "metadata": {},
   "source": [
    "Despejando para t de la ecuacion de la posicion y conociento la distancia recorrida nos queda un sistema de ecuaciones.  \n",
    "\n",
    "rx = comp_x(xo, vox, a, t)\n",
    "ry = 0 = com_y(Ho, voy, a, t)\n"
   ]
  },
  {
   "cell_type": "code",
   "execution_count": 8,
   "metadata": {},
   "outputs": [],
   "source": [
    "def incog(xo, Ho, vox, voy, a, t, g = -9.8):\n",
    " result = np.matrix([[0, xo, vox*math.cos(math.degrees(a))], [Ho, voy*math.sin(math.degrees(a)), g*t**2/2]])\n",
    " return(result)"
   ]
  },
  {
   "cell_type": "code",
   "execution_count": 9,
   "metadata": {},
   "outputs": [],
   "source": [
    "def igual(rx, ry):\n",
    "    result = np.matrix([[rx], [ry]])\n",
    "    return(result)"
   ]
  },
  {
   "cell_type": "code",
   "execution_count": 10,
   "metadata": {},
   "outputs": [],
   "source": [
    "def tiempo(rx, ry, xo, Ho, vox, voy, a, t, g = -9.8):\n",
    "    t = (incog(xo, Ho, vox, a, t)**-1)*igual(rx, ry)\n",
    "    return(t)"
   ]
  },
  {
   "cell_type": "markdown",
   "metadata": {},
   "source": []
  }
 ],
 "metadata": {
  "kernelspec": {
   "display_name": "Python 3",
   "language": "python",
   "name": "python3"
  },
  "language_info": {
   "codemirror_mode": {
    "name": "ipython",
    "version": 3
   },
   "file_extension": ".py",
   "mimetype": "text/x-python",
   "name": "python",
   "nbconvert_exporter": "python",
   "pygments_lexer": "ipython3",
   "version": "3.8.3"
  }
 },
 "nbformat": 4,
 "nbformat_minor": 4
}
